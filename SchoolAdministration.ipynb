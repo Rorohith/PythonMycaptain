{
 "cells": [
  {
   "cell_type": "code",
   "execution_count": null,
   "metadata": {},
   "outputs": [],
   "source": [
    "import csv\n",
    "\n",
    "def write_to_csv_file(info_list):\n",
    "    with open(\"student_information.csv\",'a',newline='') as csv_file:\n",
    "        writer=csv.writer(csv_file)\n",
    "        \n",
    "        if csv_file.tell()==0:\n",
    "            writer.writerow(['Name','Age','Contact No.','Email ID'])\n",
    "        \n",
    "        writer.writerow(info_list)\n",
    "\n",
    "if __name__=='__main__':\n",
    "    condition=True\n",
    "    student_num=1\n",
    "    \n",
    "    \n",
    "    while(condition):\n",
    "        student_info=input('Enter student information #{} (Name,Age,Contact No.,Email ID): '.format(student_num))\n",
    "\n",
    "    \n",
    "        student_info_list=student_info.split(' ')\n",
    "        print('\\nSplit up info: \\nName: {}\\nAge: {}\\nContact Number: {}\\nEmail ID: {}'\n",
    "              .format(student_info_list[0],student_info_list[1],student_info_list[2],student_info_list[3])) \n",
    "        \n",
    "        choice_check=input('Is the info correct(yes/no): ')\n",
    "        if choice_check==\"yes\":\n",
    "            write_to_csv_file(student_info_list)\n",
    "    \n",
    "            condition_check=input(\"Enter (yes/no) if you want to enter another student information: \")\n",
    "            if condition_check==\"yes\":\n",
    "                condition=True\n",
    "                student_num+=1\n",
    "            elif condition_check ==\"no\":\n",
    "                 condition=False\n",
    "                    \n",
    "        elif choice_check==\"no\":\n",
    "            print('\\nRe-enter the info!')\n",
    "\n",
    "\n"
   ]
  },
  {
   "cell_type": "code",
   "execution_count": null,
   "metadata": {},
   "outputs": [],
   "source": []
  }
 ],
 "metadata": {
  "kernelspec": {
   "display_name": "Python 3",
   "language": "python",
   "name": "python3"
  },
  "language_info": {
   "codemirror_mode": {
    "name": "ipython",
    "version": 3
   },
   "file_extension": ".py",
   "mimetype": "text/x-python",
   "name": "python",
   "nbconvert_exporter": "python",
   "pygments_lexer": "ipython3",
   "version": "3.7.6"
  }
 },
 "nbformat": 4,
 "nbformat_minor": 4
}
