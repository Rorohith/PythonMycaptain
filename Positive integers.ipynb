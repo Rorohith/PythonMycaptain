{
 "cells": [
  {
   "cell_type": "code",
   "execution_count": 2,
   "metadata": {},
   "outputs": [
    {
     "name": "stdout",
     "output_type": "stream",
     "text": [
      "Original numbers in the list:  [34, 1, 0, -23]\n",
      "Positive numbers in the list:  [34, 1]\n"
     ]
    }
   ],
   "source": [
    "old = [34, 1, 0, -23]\n",
    "print(\"Old numbers in the list: \",old)\n",
    "new = list(filter(lambda x: x >0, old))\n",
    "print(\"New positive numbers in the list: \",new)"
   ]
  },
  {
   "cell_type": "code",
   "execution_count": null,
   "metadata": {},
   "outputs": [],
   "source": []
  }
 ],
 "metadata": {
  "kernelspec": {
   "display_name": "Python 3",
   "language": "python",
   "name": "python3"
  },
  "language_info": {
   "codemirror_mode": {
    "name": "ipython",
    "version": 3
   },
   "file_extension": ".py",
   "mimetype": "text/x-python",
   "name": "python",
   "nbconvert_exporter": "python",
   "pygments_lexer": "ipython3",
   "version": "3.7.6"
  }
 },
 "nbformat": 4,
 "nbformat_minor": 4
}
